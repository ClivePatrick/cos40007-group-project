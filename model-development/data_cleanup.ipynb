{
 "cells": [
  {
   "cell_type": "code",
   "execution_count": 1,
   "id": "f82421fc-7b8c-4b97-8b87-676ea2a1c7bf",
   "metadata": {},
   "outputs": [],
   "source": [
    "import pandas as pd\n",
    "import numpy as np\n",
    "from os import listdir"
   ]
  },
  {
   "cell_type": "code",
   "execution_count": 12,
   "id": "a93674e9-6385-4239-b0ef-cf1c7ad7a18c",
   "metadata": {
    "scrolled": true
   },
   "outputs": [],
   "source": [
    "DATASET_PATH = './dataset/'\n",
    "csvs = [DATASET_PATH + f for f in listdir(DATASET_PATH) if f.endswith('.csv')]\n",
    "\n",
    "# Dropping rows with NaN\n",
    "raw_data = pd.concat([pd.read_csv(csv, low_memory=False) for csv in csvs])\n",
    "\n",
    "# Features selected\n",
    "features = ['time', 'timezone', 'latitude', 'longitude', 'speed', 'truck',\n",
    "            'svr1', 'svr2', 'svr3', 'svr4',\n",
    "            'Bitrate', 'Bitrate-RX', 'square_id']\n",
    "\n",
    "raw_data = raw_data[features].dropna()\n",
    "\n",
    "# two composite features\n",
    "raw_data['total_throughput'] = raw_data['Bitrate'] + raw_data['Bitrate-RX']\n",
    "raw_data['average_latency'] = raw_data[['svr1', 'svr2', 'svr3', 'svr4']].mean(axis=1)\n",
    "\n",
    "raw_data.to_csv('./clean_data_clst.csv', index=False)\n",
    "\n",
    "# very hacky but saves on memory\n",
    "del raw_data"
   ]
  },
  {
   "cell_type": "code",
   "execution_count": 11,
   "id": "d3f98b05-9762-454b-b552-8b0236d01e94",
   "metadata": {},
   "outputs": [
    {
     "data": {
      "text/plain": [
       "Index(['time', 'timezone', 'latitude', 'longitude', 'speed', 'truck', 'svr1',\n",
       "       'svr2', 'svr3', 'svr4', 'Bitrate', 'Bitrate-RX', 'square_id',\n",
       "       'total_throughput', 'avg_latency'],\n",
       "      dtype='object')"
      ]
     },
     "execution_count": 11,
     "metadata": {},
     "output_type": "execute_result"
    }
   ],
   "source": [
    "data = pd.read_csv('./clean_data_clst.csv')\n",
    "data.columns"
   ]
  }
 ],
 "metadata": {
  "kernelspec": {
   "display_name": "Python 3 (ipykernel)",
   "language": "python",
   "name": "python3"
  },
  "language_info": {
   "codemirror_mode": {
    "name": "ipython",
    "version": 3
   },
   "file_extension": ".py",
   "mimetype": "text/x-python",
   "name": "python",
   "nbconvert_exporter": "python",
   "pygments_lexer": "ipython3",
   "version": "3.10.14"
  }
 },
 "nbformat": 4,
 "nbformat_minor": 5
}
